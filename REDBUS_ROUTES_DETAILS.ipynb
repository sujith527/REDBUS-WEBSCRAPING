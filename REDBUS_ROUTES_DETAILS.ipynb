{
 "cells": [
  {
   "cell_type": "code",
   "execution_count": 1,
   "id": "7c6a83e2",
   "metadata": {},
   "outputs": [],
   "source": [
    "# importing the libraries\n",
    "from selenium import webdriver\n",
    "from selenium.webdriver import ActionChains\n",
    "from selenium.webdriver.common.by import By\n",
    "from selenium.webdriver.common.keys import Keys\n",
    "from selenium.common.exceptions import TimeoutException, NoSuchElementException\n",
    "import time\n",
    "from selenium.webdriver.support.ui import WebDriverWait\n",
    "from selenium.webdriver.support import expected_conditions as EC\n",
    "import pandas as pd"
   ]
  },
  {
   "cell_type": "code",
   "execution_count": 2,
   "id": "bd2bc428",
   "metadata": {},
   "outputs": [],
   "source": [
    "#importing webdriver\n",
    "driver = webdriver.Firefox()\n",
    "#maximizing the window\n",
    "driver.maximize_window()"
   ]
  },
  {
   "cell_type": "code",
   "execution_count": 3,
   "id": "12727c8e",
   "metadata": {},
   "outputs": [],
   "source": [
    "#importing the state link one by one\n",
    "state_links = [\n",
    "             \"https://www.redbus.in/online-booking/apsrtc/?utm_source=rtchometile\",\n",
    "             \"https://www.redbus.in/online-booking/ksrtc-kerala/?utm_source=rtchometile\",\n",
    "             \"https://www.redbus.in/online-booking/tsrtc/?utm_source=rtchometile\",\n",
    "             \"https://www.redbus.in/online-booking/bihar-state-road-transport-corporation-bsrtc/?utm_source=rtchometile\",\n",
    "             \"https://www.redbus.in/online-booking/rsrtc/?utm_source=rtchometile\",\n",
    "             \"https://www.redbus.in/online-booking/south-bengal-state-transport-corporation-sbstc/?utm_source=rtchometile\",\n",
    "             \"https://www.redbus.in/online-booking/hrtc/?utm_source=rtchometile\",\n",
    "             \"https://www.redbus.in/online-booking/astc/?utm_source=rtchometile\",\n",
    "             \"https://www.redbus.in/online-booking/uttar-pradesh-state-road-transport-corporation-upsrtc/?utm_source=rtchometile\",\n",
    "             \"https://www.redbus.in/online-booking/wbtc-ctc/?utm_source=rtchometile\",\n",
    "             \n",
    "]"
   ]
  },
  {
   "cell_type": "code",
   "execution_count": 4,
   "id": "38a81cd8",
   "metadata": {},
   "outputs": [],
   "source": [
    "#loading the webpage\n",
    "driver.get(\"https://www.redbus.in/online-booking/apsrtc/?utm_source=rtchometile\")\n",
    "\n",
    "time.sleep(3)\n",
    "\n",
    "driver.maximize_window()"
   ]
  },
  {
   "cell_type": "markdown",
   "id": "eafa4bdd",
   "metadata": {},
   "source": [
    "# 1. ANDHRA"
   ]
  },
  {
   "cell_type": "code",
   "execution_count": 5,
   "id": "49ea8e6a",
   "metadata": {},
   "outputs": [],
   "source": [
    "#retrive  bus links and route\n",
    "wait = WebDriverWait(driver, 30)\n",
    "def Andhra_link_route(path):   \n",
    "    LINKS_ANDHRA=[]\n",
    "    ROUTE_ANDHRA=[]\n",
    "    # retrive the route links \n",
    "    for i in range(1,5): # there is total 5 pages in apsrtc\n",
    "        paths=driver.find_elements(By.XPATH,path)\n",
    "        \n",
    "        for links in paths:\n",
    "            d = links.get_attribute(\"href\")\n",
    "            LINKS_ANDHRA.append(d)\n",
    "            \n",
    "        # name of the routes\n",
    "        for route in paths:\n",
    "            ROUTE_ANDHRA.append(route.text)\n",
    "            \n",
    "        try:\n",
    "            # Waitinh for the pagr element to be present\n",
    "            pagination = wait.until(EC.presence_of_element_located((By.XPATH, '//*[@class=\"DC_117_paginationTable\"]')))\n",
    "            next_button = pagination.find_element(By.XPATH, f'//div[@class=\"DC_117_pageTabs \" and text()={i+1}]')\n",
    "            driver.execute_script(\"arguments[0].scrollIntoView();\", next_button)\n",
    "            time.sleep(3)\n",
    "            next_button.click()\n",
    "            \n",
    "        except NoSuchElementException:\n",
    "            print(f\"No more pages to paginate at step {i}\")\n",
    "            break\n",
    "            \n",
    "    return LINKS_ANDHRA,ROUTE_ANDHRA\n",
    "\n",
    "LINKS_ANDHRA,ROUTE_ANDHRA=Andhra_link_route(\"//a[@class='route']\")"
   ]
  },
  {
   "cell_type": "code",
   "execution_count": 6,
   "id": "a96bac35",
   "metadata": {},
   "outputs": [],
   "source": [
    "#converting list to Data frame\n",
    "andra=pd.DataFrame({\"ROUTES_NAME\":ROUTE_ANDHRA,\"ROUTES_LINK\":LINKS_ANDHRA})"
   ]
  },
  {
   "cell_type": "code",
   "execution_count": 7,
   "id": "1cef9c5b",
   "metadata": {},
   "outputs": [],
   "source": [
    "driver.quit()"
   ]
  },
  {
   "cell_type": "markdown",
   "id": "fd04c0d2",
   "metadata": {},
   "source": [
    "# the above procedure is same for the next 9 states 👆👆👆"
   ]
  },
  {
   "cell_type": "markdown",
   "id": "2227924a",
   "metadata": {},
   "source": [
    "# 2. KERALA "
   ]
  },
  {
   "cell_type": "code",
   "execution_count": 8,
   "id": "d66cefc3",
   "metadata": {},
   "outputs": [],
   "source": [
    "driver=webdriver.Firefox()\n",
    "\n",
    "driver.get(\"https://www.redbus.in/online-booking/ksrtc-kerala/?utm_source=rtchometile\")\n",
    "driver.maximize_window()\n",
    "time.sleep(3)"
   ]
  },
  {
   "cell_type": "code",
   "execution_count": 9,
   "id": "d6fb39d4",
   "metadata": {},
   "outputs": [
    {
     "name": "stdout",
     "output_type": "stream",
     "text": [
      "No more pages to paginate at step 2\n"
     ]
    }
   ],
   "source": [
    "wait = WebDriverWait(driver, 20)\n",
    "def Kerala_link_route(path):   \n",
    "    LINKS_KERALA=[]\n",
    "    ROUTE_KERALA=[]\n",
    "\n",
    "    for i in range(1,3): \n",
    "        paths=driver.find_elements(By.XPATH,path)\n",
    "        \n",
    "        for links in paths:\n",
    "            d = links.get_attribute(\"href\")\n",
    "            LINKS_KERALA.append(d)\n",
    "            \n",
    "        for route in paths:\n",
    "            ROUTE_KERALA.append(route.text)\n",
    "            \n",
    "        try:\n",
    "            pagination = wait.until(EC.presence_of_element_located((By.XPATH, '//*[@class=\"DC_117_paginationTable\"]')))\n",
    "            next_button = pagination.find_element(By.XPATH, f'//div[@class=\"DC_117_pageTabs \" and text()={i+1}]')\n",
    "            driver.execute_script(\"arguments[0].scrollIntoView();\", next_button)\n",
    "            time.sleep(3)\n",
    "            next_button.click()\n",
    "            \n",
    "        except NoSuchElementException:\n",
    "            print(f\"No more pages to paginate at step {i}\")\n",
    "            break\n",
    "            \n",
    "    return LINKS_KERALA,ROUTE_KERALA\n",
    "\n",
    "LINKS_KERALA,ROUTE_KERALA=Kerala_link_route(\"//a[@class='route']\")"
   ]
  },
  {
   "cell_type": "code",
   "execution_count": 10,
   "id": "55fb2b40",
   "metadata": {},
   "outputs": [],
   "source": [
    "kerala=pd.DataFrame({\"ROUTES_NAME\":ROUTE_KERALA,\"ROUTES_LINK\":LINKS_KERALA})"
   ]
  },
  {
   "cell_type": "code",
   "execution_count": 11,
   "id": "812b65ed",
   "metadata": {},
   "outputs": [],
   "source": [
    "driver.quit()"
   ]
  },
  {
   "cell_type": "markdown",
   "id": "1875d5b5",
   "metadata": {},
   "source": [
    "# 3. TELANGANA"
   ]
  },
  {
   "cell_type": "code",
   "execution_count": 12,
   "id": "a0bfa9b7",
   "metadata": {},
   "outputs": [],
   "source": [
    "driver=webdriver.Firefox()\n",
    "\n",
    "driver.get(\"https://www.redbus.in/online-booking/tsrtc/?utm_source=rtchometile\")\n",
    "driver.maximize_window()\n",
    "time.sleep(3)\n"
   ]
  },
  {
   "cell_type": "code",
   "execution_count": 13,
   "id": "5145384f",
   "metadata": {},
   "outputs": [
    {
     "name": "stdout",
     "output_type": "stream",
     "text": [
      "No more pages to paginate at step 3\n"
     ]
    }
   ],
   "source": [
    "wait = WebDriverWait(driver, 20)\n",
    "def telengana_link_route(path):   \n",
    "    LINKS_TELANGANA=[]\n",
    "    ROUTE_TELANGANA=[]\n",
    "    \n",
    "    for i in range(1,4):\n",
    "        paths=driver.find_elements(By.XPATH,path)\n",
    "        \n",
    "        for links in paths:\n",
    "            d = links.get_attribute(\"href\")\n",
    "            LINKS_TELANGANA.append(d)\n",
    "            \n",
    "        for route in paths:\n",
    "            ROUTE_TELANGANA.append(route.text)\n",
    "            \n",
    "        try:\n",
    "            pagination = wait.until(EC.presence_of_element_located((By.XPATH, '//*[@class=\"DC_117_paginationTable\"]')))\n",
    "            next_button = pagination.find_element(By.XPATH, f'//div[@class=\"DC_117_pageTabs \" and text()={i+1}]')\n",
    "            driver.execute_script(\"arguments[0].scrollIntoView();\", next_button)\n",
    "            time.sleep(3)\n",
    "            next_button.click()\n",
    "            \n",
    "        except NoSuchElementException:\n",
    "            print(f\"No more pages to paginate at step {i}\")\n",
    "            break\n",
    "            \n",
    "    return LINKS_TELANGANA,ROUTE_TELANGANA\n",
    "\n",
    "LINKS_TELANGANA,ROUTE_TELANGANA=telengana_link_route(\"//a[@class='route']\")\n"
   ]
  },
  {
   "cell_type": "code",
   "execution_count": 14,
   "id": "726f7b77",
   "metadata": {},
   "outputs": [],
   "source": [
    "telengana=pd.DataFrame({\"ROUTES_NAME\":ROUTE_TELANGANA,\"ROUTES_LINK\":LINKS_TELANGANA})"
   ]
  },
  {
   "cell_type": "code",
   "execution_count": 15,
   "id": "2765b35d",
   "metadata": {},
   "outputs": [],
   "source": [
    "driver.quit()"
   ]
  },
  {
   "cell_type": "markdown",
   "id": "5d7877cb",
   "metadata": {},
   "source": [
    "# 4. BIHAR"
   ]
  },
  {
   "cell_type": "code",
   "execution_count": 16,
   "id": "7744ef42",
   "metadata": {},
   "outputs": [],
   "source": [
    "driver=webdriver.Firefox()\n",
    "driver.get(\"https://www.redbus.in/online-booking/bihar-state-road-transport-corporation-bsrtc/?utm_source=rtchometile\")\n",
    "driver.maximize_window()\n",
    "time.sleep(3)"
   ]
  },
  {
   "cell_type": "code",
   "execution_count": 17,
   "id": "8bf2f9a8",
   "metadata": {},
   "outputs": [],
   "source": [
    "wait = WebDriverWait(driver, 20)\n",
    "def Bihar_route(path):   \n",
    "    LINKS_BIHAR=[]\n",
    "    ROUTE_BIHAR=[]\n",
    "    \n",
    "    for i in range(1,4): \n",
    "        paths=driver.find_elements(By.XPATH,path)\n",
    "        \n",
    "        for links in paths:\n",
    "            d = links.get_attribute(\"href\")\n",
    "            LINKS_BIHAR.append(d)\n",
    "            \n",
    "        for route in paths:\n",
    "            ROUTE_BIHAR.append(route.text)\n",
    "            \n",
    "        try:\n",
    "            pagination = wait.until(EC.presence_of_element_located((By.XPATH, '//*[@class=\"DC_117_paginationTable\"]')))\n",
    "            next_button = pagination.find_element(By.XPATH, f'//div[@class=\"DC_117_pageTabs \" and text()={i+1}]')\n",
    "            driver.execute_script(\"arguments[0].scrollIntoView();\", next_button)\n",
    "            time.sleep(3)\n",
    "            next_button.click()\n",
    "            \n",
    "        except NoSuchElementException:\n",
    "            print(f\"No more pages to paginate at step {i}\")\n",
    "            break\n",
    "            \n",
    "    return LINKS_BIHAR,ROUTE_BIHAR\n",
    "\n",
    "LINKS_BIHAR,ROUTE_BIHAR=Bihar_route(\"//a[@class='route']\")"
   ]
  },
  {
   "cell_type": "code",
   "execution_count": 47,
   "id": "bd952f23",
   "metadata": {},
   "outputs": [],
   "source": [
    "bihar=pd.DataFrame({\"ROUTES_NAME\":ROUTE_BIHAR,\"ROUTES_LINK\":LINKS_BIHAR})"
   ]
  },
  {
   "cell_type": "code",
   "execution_count": 48,
   "id": "4e54fb16",
   "metadata": {},
   "outputs": [],
   "source": [
    "driver.quit()"
   ]
  },
  {
   "cell_type": "markdown",
   "id": "7ae3f219",
   "metadata": {},
   "source": [
    "# 5. RAJASTAN"
   ]
  },
  {
   "cell_type": "code",
   "execution_count": 20,
   "id": "8282a195",
   "metadata": {},
   "outputs": [],
   "source": [
    "driver=webdriver.Firefox()\n",
    "\n",
    "driver.get(\"https://www.redbus.in/online-booking/rsrtc/?utm_source=rtchometile\")\n",
    "driver.maximize_window()\n",
    "time.sleep(3)"
   ]
  },
  {
   "cell_type": "code",
   "execution_count": 21,
   "id": "96c7f7dc",
   "metadata": {},
   "outputs": [
    {
     "name": "stdout",
     "output_type": "stream",
     "text": [
      "No more pages to paginate at step 3\n"
     ]
    }
   ],
   "source": [
    "wait = WebDriverWait(driver, 20)\n",
    "def Rajastan_link_route(path):   \n",
    "    LINKS_RAJASTAN=[]\n",
    "    ROUTE_RAJASTAN=[]\n",
    "    \n",
    "    for i in range(1,4):\n",
    "        paths=driver.find_elements(By.XPATH,path)\n",
    "        \n",
    "        for links in paths:\n",
    "            d = links.get_attribute(\"href\")\n",
    "            LINKS_RAJASTAN.append(d)\n",
    "            \n",
    "        for route in paths:\n",
    "            ROUTE_RAJASTAN.append(route.text)\n",
    "            \n",
    "        try:\n",
    "            pagination = wait.until(EC.presence_of_element_located((By.XPATH, '//*[@class=\"DC_117_paginationTable\"]')))\n",
    "            next_button = pagination.find_element(By.XPATH, f'//div[@class=\"DC_117_pageTabs \" and text()={i+1}]')\n",
    "            driver.execute_script(\"arguments[0].scrollIntoView();\", next_button)\n",
    "            time.sleep(3)\n",
    "            next_button.click()\n",
    "            \n",
    "        except NoSuchElementException:\n",
    "            print(f\"No more pages to paginate at step {i}\")\n",
    "            break\n",
    "            \n",
    "    return LINKS_RAJASTAN,ROUTE_RAJASTAN\n",
    "\n",
    "LINKS_RAJASTAN,ROUTE_RAJASTAN=Rajastan_link_route(\"//a[@class='route']\")"
   ]
  },
  {
   "cell_type": "code",
   "execution_count": 22,
   "id": "35d85595",
   "metadata": {},
   "outputs": [],
   "source": [
    "rajastan=pd.DataFrame({\"ROUTES_NAME\":ROUTE_RAJASTAN,\"ROUTES_LINK\":LINKS_RAJASTAN})"
   ]
  },
  {
   "cell_type": "code",
   "execution_count": 23,
   "id": "124cf644",
   "metadata": {},
   "outputs": [],
   "source": [
    "driver.quit()"
   ]
  },
  {
   "cell_type": "markdown",
   "id": "bbee9f2f",
   "metadata": {},
   "source": [
    "# 6. SOUTH BENGAL"
   ]
  },
  {
   "cell_type": "code",
   "execution_count": 24,
   "id": "d7e4cdad",
   "metadata": {},
   "outputs": [],
   "source": [
    "driver=webdriver.Firefox()\n",
    "\n",
    "driver.get(\"https://www.redbus.in/online-booking/south-bengal-state-transport-corporation-sbstc/?utm_source=rtchometile\")\n",
    "driver.maximize_window()\n",
    "time.sleep(3)"
   ]
  },
  {
   "cell_type": "code",
   "execution_count": 25,
   "id": "25bbe373",
   "metadata": {},
   "outputs": [
    {
     "name": "stdout",
     "output_type": "stream",
     "text": [
      "No more pages to paginate at step 5\n"
     ]
    }
   ],
   "source": [
    "wait = WebDriverWait(driver, 20)\n",
    "def Southbengal_link_route(path):   \n",
    "    LINKS_SOUTHBENGAL=[]\n",
    "    ROUTE_SOUTHBENGAL=[]\n",
    "    \n",
    "    for i in range(1,6):\n",
    "        paths=driver.find_elements(By.XPATH,path)\n",
    "        \n",
    "        for links in paths:\n",
    "            d = links.get_attribute(\"href\")\n",
    "            LINKS_SOUTHBENGAL.append(d)\n",
    "            \n",
    "        for route in paths:\n",
    "            ROUTE_SOUTHBENGAL.append(route.text)\n",
    "            \n",
    "        try:\n",
    "            pagination = wait.until(EC.presence_of_element_located((By.XPATH, '//*[@class=\"DC_117_paginationTable\"]')))\n",
    "            next_button = pagination.find_element(By.XPATH, f'//div[@class=\"DC_117_pageTabs \" and text()={i+1}]')\n",
    "            driver.execute_script(\"arguments[0].scrollIntoView();\", next_button)\n",
    "            time.sleep(3)\n",
    "            next_button.click()\n",
    "            \n",
    "        except NoSuchElementException:\n",
    "            print(f\"No more pages to paginate at step {i}\")\n",
    "            break\n",
    "            \n",
    "    return LINKS_SOUTHBENGAL,ROUTE_SOUTHBENGAL\n",
    "\n",
    "LINKS_SOUTHBENGAL,ROUTE_SOUTHBENGAL=Southbengal_link_route(\"//a[@class='route']\")"
   ]
  },
  {
   "cell_type": "code",
   "execution_count": 26,
   "id": "ca7992d8",
   "metadata": {},
   "outputs": [],
   "source": [
    "south_bengal=pd.DataFrame({\"ROUTES_NAME\":ROUTE_SOUTHBENGAL,\"ROUTES_LINK\":LINKS_SOUTHBENGAL})"
   ]
  },
  {
   "cell_type": "code",
   "execution_count": 27,
   "id": "ca0295d6",
   "metadata": {},
   "outputs": [],
   "source": [
    "driver.quit()"
   ]
  },
  {
   "cell_type": "markdown",
   "id": "83f75ab1",
   "metadata": {},
   "source": [
    "# 7. HARIYANA "
   ]
  },
  {
   "cell_type": "code",
   "execution_count": 28,
   "id": "9d4a58df",
   "metadata": {},
   "outputs": [],
   "source": [
    "driver=webdriver.Firefox()\n",
    "\n",
    "driver.get(\"https://www.redbus.in/online-booking/hrtc/?utm_source=rtchometile\")\n",
    "driver.maximize_window()\n",
    "time.sleep(3)"
   ]
  },
  {
   "cell_type": "code",
   "execution_count": 29,
   "id": "bb18e280",
   "metadata": {},
   "outputs": [
    {
     "name": "stdout",
     "output_type": "stream",
     "text": [
      "No more pages to paginate at step 5\n"
     ]
    }
   ],
   "source": [
    "\n",
    "wait = WebDriverWait(driver, 20)\n",
    "def Hariyana_link_route(path):   \n",
    "    LINKS_HARIYANA=[]\n",
    "    ROUTE_HARIYANA=[]\n",
    "    \n",
    "    for i in range(1,6):\n",
    "        paths=driver.find_elements(By.XPATH,path)\n",
    "        \n",
    "        for links in paths:\n",
    "            d = links.get_attribute(\"href\")\n",
    "            LINKS_HARIYANA.append(d)\n",
    "            \n",
    "        for route in paths:\n",
    "            ROUTE_HARIYANA.append(route.text)\n",
    "            \n",
    "        try:\n",
    "            pagination = wait.until(EC.presence_of_element_located((By.XPATH, '//*[@class=\"DC_117_paginationTable\"]')))\n",
    "            next_button = pagination.find_element(By.XPATH, f'//div[@class=\"DC_117_pageTabs \" and text()={i+1}]')\n",
    "            driver.execute_script(\"arguments[0].scrollIntoView();\", next_button)\n",
    "            time.sleep(3)\n",
    "            next_button.click()\n",
    "            \n",
    "        except NoSuchElementException:\n",
    "            print(f\"No more pages to paginate at step {i}\")\n",
    "            break\n",
    "            \n",
    "    return LINKS_HARIYANA,ROUTE_HARIYANA\n",
    "\n",
    "LINKS_HARIYANA,ROUTE_HARIYANA=Hariyana_link_route(\"//a[@class='route']\")"
   ]
  },
  {
   "cell_type": "code",
   "execution_count": 30,
   "id": "c430f203",
   "metadata": {},
   "outputs": [],
   "source": [
    "hariyana=pd.DataFrame({\"ROUTES_NAME\":ROUTE_HARIYANA,\"ROUTES_LINK\":LINKS_HARIYANA})"
   ]
  },
  {
   "cell_type": "code",
   "execution_count": 31,
   "id": "858496f1",
   "metadata": {},
   "outputs": [],
   "source": [
    "driver.quit()"
   ]
  },
  {
   "cell_type": "markdown",
   "id": "acec88fa",
   "metadata": {},
   "source": [
    "# 8. ASSAM"
   ]
  },
  {
   "cell_type": "code",
   "execution_count": 32,
   "id": "b8e0273f",
   "metadata": {},
   "outputs": [],
   "source": [
    "driver=webdriver.Firefox()\n",
    "\n",
    "driver.get(\"https://www.redbus.in/online-booking/astc/?utm_source=rtchometile\")\n",
    "driver.maximize_window()\n",
    "time.sleep(3)"
   ]
  },
  {
   "cell_type": "code",
   "execution_count": 33,
   "id": "6d7555ef",
   "metadata": {},
   "outputs": [],
   "source": [
    "wait = WebDriverWait(driver, 20)\n",
    "def Assam_link_route(path):   \n",
    "    LINKS_ASSAM=[]\n",
    "    ROUTE_ASSAM=[]\n",
    "    \n",
    "    for i in range(1,5):\n",
    "        paths=driver.find_elements(By.XPATH,path)\n",
    "\n",
    "        for links in paths:\n",
    "            d = links.get_attribute(\"href\")\n",
    "            LINKS_ASSAM.append(d)\n",
    "            \n",
    "    \n",
    "        for route in paths:\n",
    "            ROUTE_ASSAM.append(route.text)\n",
    "            \n",
    "        try:\n",
    "          \n",
    "            pagination = wait.until(EC.presence_of_element_located((By.XPATH, '//*[@class=\"DC_117_paginationTable\"]')))\n",
    "            next_button = pagination.find_element(By.XPATH, f'//div[@class=\"DC_117_pageTabs \" and text()={i+1}]')\n",
    "            driver.execute_script(\"arguments[0].scrollIntoView();\", next_button)\n",
    "            time.sleep(3)\n",
    "            next_button.click()\n",
    "            \n",
    "        except NoSuchElementException:\n",
    "            print(f\"No more pages to paginate at step {i}\")\n",
    "            break\n",
    "            \n",
    "    return LINKS_ASSAM,ROUTE_ASSAM\n",
    "\n",
    "LINKS_ASSAM,ROUTE_ASSAM=Assam_link_route(\"//a[@class='route']\")"
   ]
  },
  {
   "cell_type": "code",
   "execution_count": 34,
   "id": "6f5090f7",
   "metadata": {},
   "outputs": [],
   "source": [
    "assam=pd.DataFrame({\"ROUTES_NAME\":ROUTE_ASSAM,\"ROUTES_LINK\":LINKS_ASSAM})"
   ]
  },
  {
   "cell_type": "code",
   "execution_count": 35,
   "id": "6750551a",
   "metadata": {},
   "outputs": [],
   "source": [
    "driver.quit()"
   ]
  },
  {
   "cell_type": "markdown",
   "id": "24e4a5f4",
   "metadata": {},
   "source": [
    "# 9.UTTRA PRADESH"
   ]
  },
  {
   "cell_type": "code",
   "execution_count": 36,
   "id": "c3fc8889",
   "metadata": {},
   "outputs": [],
   "source": [
    "driver=webdriver.Firefox()\n",
    "\n",
    "driver.get(\"https://www.redbus.in/online-booking/uttar-pradesh-state-road-transport-corporation-upsrtc/?utm_source=rtchometile\")\n",
    "driver.maximize_window()\n",
    "time.sleep(3)"
   ]
  },
  {
   "cell_type": "code",
   "execution_count": 37,
   "id": "e15ad890",
   "metadata": {},
   "outputs": [
    {
     "name": "stdout",
     "output_type": "stream",
     "text": [
      "No more pages to paginate at step 5\n"
     ]
    }
   ],
   "source": [
    "wait = WebDriverWait(driver, 20)\n",
    "def UP_link_route(path):   \n",
    "    LINKS_UP=[]\n",
    "    ROUTE_UP=[]\n",
    "    \n",
    "    for i in range(1,6):\n",
    "        paths=driver.find_elements(By.XPATH,path)\n",
    "     \n",
    "        for links in paths:\n",
    "            d = links.get_attribute(\"href\")\n",
    "            LINKS_UP.append(d)\n",
    "            \n",
    "        for route in paths:\n",
    "            ROUTE_UP.append(route.text)\n",
    "            \n",
    "        try:\n",
    "       \n",
    "            pagination = wait.until(EC.presence_of_element_located((By.XPATH, '//*[@class=\"DC_117_paginationTable\"]')))\n",
    "            next_button = pagination.find_element(By.XPATH, f'//div[@class=\"DC_117_pageTabs \" and text()={i+1}]')\n",
    "            driver.execute_script(\"arguments[0].scrollIntoView();\", next_button)\n",
    "            time.sleep(3)\n",
    "            next_button.click()\n",
    "            \n",
    "        except NoSuchElementException:\n",
    "            print(f\"No more pages to paginate at step {i}\")\n",
    "            break\n",
    "            \n",
    "    return LINKS_UP,ROUTE_UP\n",
    "\n",
    "LINKS_UP,ROUTE_UP=UP_link_route(\"//a[@class='route']\")"
   ]
  },
  {
   "cell_type": "code",
   "execution_count": 38,
   "id": "a3545802",
   "metadata": {},
   "outputs": [],
   "source": [
    "uttra_pradesh=pd.DataFrame({\"ROUTES_NAME\":ROUTE_UP,\"ROUTES_LINK\":LINKS_UP})"
   ]
  },
  {
   "cell_type": "code",
   "execution_count": 39,
   "id": "d1812539",
   "metadata": {},
   "outputs": [],
   "source": [
    "driver.quit()"
   ]
  },
  {
   "cell_type": "markdown",
   "id": "9d0f2966",
   "metadata": {},
   "source": [
    "# 10. WEST BENGAL "
   ]
  },
  {
   "cell_type": "code",
   "execution_count": 40,
   "id": "4e338372",
   "metadata": {},
   "outputs": [],
   "source": [
    "driver=webdriver.Firefox()\n",
    "\n",
    "driver.get(\"https://www.redbus.in/online-booking/wbtc-ctc/?utm_source=rtchometile\")\n",
    "driver.maximize_window()\n",
    "time.sleep(3)"
   ]
  },
  {
   "cell_type": "code",
   "execution_count": 41,
   "id": "c6ddb8e7",
   "metadata": {},
   "outputs": [
    {
     "name": "stdout",
     "output_type": "stream",
     "text": [
      "No more pages to paginate at step 5\n"
     ]
    }
   ],
   "source": [
    "wait = WebDriverWait(driver, 20)\n",
    "def Westbengal_link_route(path):   \n",
    "    LINKS_WESTBENGAL=[]\n",
    "    ROUTE_WESTBENGAL=[]\n",
    "    \n",
    "    for i in range(1,6):\n",
    "        paths=driver.find_elements(By.XPATH,path)\n",
    "\n",
    "        for links in paths:\n",
    "            d = links.get_attribute(\"href\")\n",
    "            LINKS_WESTBENGAL.append(d)\n",
    "            \n",
    "        for route in paths:\n",
    "            ROUTE_WESTBENGAL.append(route.text)\n",
    "            \n",
    "        try:\n",
    "            pagination = wait.until(EC.presence_of_element_located((By.XPATH, '//*[@class=\"DC_117_paginationTable\"]')))\n",
    "            next_button = pagination.find_element(By.XPATH, f'//div[@class=\"DC_117_pageTabs \" and text()={i+1}]')\n",
    "            driver.execute_script(\"arguments[0].scrollIntoView();\", next_button)\n",
    "            time.sleep(3)\n",
    "            next_button.click()\n",
    "            \n",
    "        except NoSuchElementException:\n",
    "            print(f\"No more pages to paginate at step {i}\")\n",
    "            break\n",
    "            \n",
    "    return LINKS_WESTBENGAL,ROUTE_WESTBENGAL\n",
    "\n",
    "LINKS_WESTBENGAL,ROUTE_WESTBENGAL=Westbengal_link_route(\"//a[@class='route']\")"
   ]
  },
  {
   "cell_type": "code",
   "execution_count": 42,
   "id": "1a3ac2bf",
   "metadata": {},
   "outputs": [],
   "source": [
    "west_bengal=pd.DataFrame({\"ROUTES_NAME\":ROUTE_WESTBENGAL,\"ROUTES_LINK\":LINKS_WESTBENGAL})"
   ]
  },
  {
   "cell_type": "code",
   "execution_count": 43,
   "id": "3b76b55f",
   "metadata": {},
   "outputs": [],
   "source": [
    "driver.quit()"
   ]
  },
  {
   "cell_type": "code",
   "execution_count": null,
   "id": "31856423",
   "metadata": {},
   "outputs": [],
   "source": []
  },
  {
   "cell_type": "code",
   "execution_count": null,
   "id": "108ebac0",
   "metadata": {},
   "outputs": [],
   "source": []
  },
  {
   "cell_type": "code",
   "execution_count": 49,
   "id": "ce3897ce",
   "metadata": {},
   "outputs": [
    {
     "data": {
      "text/html": [
       "<div>\n",
       "<style scoped>\n",
       "    .dataframe tbody tr th:only-of-type {\n",
       "        vertical-align: middle;\n",
       "    }\n",
       "\n",
       "    .dataframe tbody tr th {\n",
       "        vertical-align: top;\n",
       "    }\n",
       "\n",
       "    .dataframe thead th {\n",
       "        text-align: right;\n",
       "    }\n",
       "</style>\n",
       "<table border=\"1\" class=\"dataframe\">\n",
       "  <thead>\n",
       "    <tr style=\"text-align: right;\">\n",
       "      <th></th>\n",
       "      <th>ROUTES_NAME</th>\n",
       "      <th>ROUTES_LINK</th>\n",
       "    </tr>\n",
       "  </thead>\n",
       "  <tbody>\n",
       "    <tr>\n",
       "      <th>0</th>\n",
       "      <td>Vijayawada to Hyderabad</td>\n",
       "      <td>https://www.redbus.in/bus-tickets/vijayawada-t...</td>\n",
       "    </tr>\n",
       "    <tr>\n",
       "      <th>1</th>\n",
       "      <td>Hyderabad to Vijayawada</td>\n",
       "      <td>https://www.redbus.in/bus-tickets/hyderabad-to...</td>\n",
       "    </tr>\n",
       "    <tr>\n",
       "      <th>2</th>\n",
       "      <td>Kakinada to Visakhapatnam</td>\n",
       "      <td>https://www.redbus.in/bus-tickets/kakinada-to-...</td>\n",
       "    </tr>\n",
       "    <tr>\n",
       "      <th>3</th>\n",
       "      <td>Visakhapatnam to Kakinada</td>\n",
       "      <td>https://www.redbus.in/bus-tickets/visakhapatna...</td>\n",
       "    </tr>\n",
       "    <tr>\n",
       "      <th>4</th>\n",
       "      <td>Chittoor (Andhra Pradesh) to Bangalore</td>\n",
       "      <td>https://www.redbus.in/bus-tickets/chittoor-and...</td>\n",
       "    </tr>\n",
       "    <tr>\n",
       "      <th>...</th>\n",
       "      <td>...</td>\n",
       "      <td>...</td>\n",
       "    </tr>\n",
       "    <tr>\n",
       "      <th>347</th>\n",
       "      <td>Habra to Durgapur (West Bengal)</td>\n",
       "      <td>https://www.redbus.in/bus-tickets/habra-to-dur...</td>\n",
       "    </tr>\n",
       "    <tr>\n",
       "      <th>348</th>\n",
       "      <td>Barasat (West Bengal) to Mechogram</td>\n",
       "      <td>https://www.redbus.in/bus-tickets/barasat-west...</td>\n",
       "    </tr>\n",
       "    <tr>\n",
       "      <th>349</th>\n",
       "      <td>Habra to Haldia</td>\n",
       "      <td>https://www.redbus.in/bus-tickets/habra-to-haldia</td>\n",
       "    </tr>\n",
       "    <tr>\n",
       "      <th>350</th>\n",
       "      <td>Habra to Contai (Kanthi)</td>\n",
       "      <td>https://www.redbus.in/bus-tickets/habra-to-con...</td>\n",
       "    </tr>\n",
       "    <tr>\n",
       "      <th>351</th>\n",
       "      <td>Habra to Midnapore</td>\n",
       "      <td>https://www.redbus.in/bus-tickets/habra-to-mid...</td>\n",
       "    </tr>\n",
       "  </tbody>\n",
       "</table>\n",
       "<p>352 rows × 2 columns</p>\n",
       "</div>"
      ],
      "text/plain": [
       "                                ROUTES_NAME  \\\n",
       "0                   Vijayawada to Hyderabad   \n",
       "1                   Hyderabad to Vijayawada   \n",
       "2                 Kakinada to Visakhapatnam   \n",
       "3                 Visakhapatnam to Kakinada   \n",
       "4    Chittoor (Andhra Pradesh) to Bangalore   \n",
       "..                                      ...   \n",
       "347         Habra to Durgapur (West Bengal)   \n",
       "348      Barasat (West Bengal) to Mechogram   \n",
       "349                         Habra to Haldia   \n",
       "350                Habra to Contai (Kanthi)   \n",
       "351                      Habra to Midnapore   \n",
       "\n",
       "                                           ROUTES_LINK  \n",
       "0    https://www.redbus.in/bus-tickets/vijayawada-t...  \n",
       "1    https://www.redbus.in/bus-tickets/hyderabad-to...  \n",
       "2    https://www.redbus.in/bus-tickets/kakinada-to-...  \n",
       "3    https://www.redbus.in/bus-tickets/visakhapatna...  \n",
       "4    https://www.redbus.in/bus-tickets/chittoor-and...  \n",
       "..                                                 ...  \n",
       "347  https://www.redbus.in/bus-tickets/habra-to-dur...  \n",
       "348  https://www.redbus.in/bus-tickets/barasat-west...  \n",
       "349  https://www.redbus.in/bus-tickets/habra-to-haldia  \n",
       "350  https://www.redbus.in/bus-tickets/habra-to-con...  \n",
       "351  https://www.redbus.in/bus-tickets/habra-to-mid...  \n",
       "\n",
       "[352 rows x 2 columns]"
      ]
     },
     "execution_count": 49,
     "metadata": {},
     "output_type": "execute_result"
    }
   ],
   "source": [
    "df = pd.concat([andra,kerala,telengana,bihar,rajastan,hariyana,south_bengal,assam,uttra_pradesh,west_bengal],ignore_index=True)\n",
    "df"
   ]
  },
  {
   "cell_type": "code",
   "execution_count": 50,
   "id": "d0bb39cd",
   "metadata": {},
   "outputs": [],
   "source": [
    "df.to_csv(r'D:\\data science project\\my_project\\REDBUS_ROUTES_DETAILS.csv',index = False)"
   ]
  },
  {
   "cell_type": "code",
   "execution_count": 52,
   "id": "593e8a41",
   "metadata": {},
   "outputs": [
    {
     "name": "stdout",
     "output_type": "stream",
     "text": [
      "scraped route details successfully...\n"
     ]
    }
   ],
   "source": [
    "print(\"scraped route details successfully...\")"
   ]
  }
 ],
 "metadata": {
  "kernelspec": {
   "display_name": "Python 3 (ipykernel)",
   "language": "python",
   "name": "python3"
  },
  "language_info": {
   "codemirror_mode": {
    "name": "ipython",
    "version": 3
   },
   "file_extension": ".py",
   "mimetype": "text/x-python",
   "name": "python",
   "nbconvert_exporter": "python",
   "pygments_lexer": "ipython3",
   "version": "3.11.7"
  }
 },
 "nbformat": 4,
 "nbformat_minor": 5
}
